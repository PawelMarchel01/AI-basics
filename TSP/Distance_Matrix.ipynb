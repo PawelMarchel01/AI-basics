{
  "nbformat": 4,
  "nbformat_minor": 0,
  "metadata": {
    "colab": {
      "provenance": []
    },
    "kernelspec": {
      "name": "python3",
      "display_name": "Python 3"
    },
    "language_info": {
      "name": "python"
    }
  },
  "cells": [
    {
      "cell_type": "code",
      "execution_count": 1,
      "metadata": {
        "id": "mAunA3IqBT55"
      },
      "outputs": [],
      "source": [
        "#Libraries\n",
        "import numpy as np\n",
        "import random\n",
        "import math\n",
        "import matplotlib.pyplot as plt\n",
        "from mpl_toolkits.mplot3d import Axes3D\n",
        "import time"
      ]
    },
    {
      "cell_type": "markdown",
      "source": [
        "#Creating cities and roads"
      ],
      "metadata": {
        "id": "SxKAWTzUBVCC"
      }
    },
    {
      "cell_type": "code",
      "source": [
        "#Generating points (city coordinates)\n",
        "def coordinates(ao_points):\n",
        "    points = []\n",
        "    for _ in range(ao_points):\n",
        "        x = random.randint(-100, 100)\n",
        "        y = random.randint(-100, 100)\n",
        "        z = random.randint(0, 50)\n",
        "        points.append((x, y, z))\n",
        "    return points"
      ],
      "metadata": {
        "id": "Nexe3KUmBWmK"
      },
      "execution_count": 2,
      "outputs": []
    },
    {
      "cell_type": "code",
      "source": [
        "import math\n",
        "import random\n",
        "\n",
        "# Function to calculate distances between two points\n",
        "def distances(point1, point2):\n",
        "    distances = math.sqrt((point1[0] - point2[0])**2 + (point1[1] - point2[1])**2 + (point1[2] - point2[2])**2)\n",
        "    if point1[2] < point2[2]:\n",
        "        distances *= 1.1\n",
        "    else:\n",
        "        distances *= 0.9\n",
        "    return distances\n",
        "\n",
        "# Function to generate the distance matrix\n",
        "def generate_distance_matrix(points):\n",
        "    num_points = len(points)\n",
        "    distance_matrix = [[0] * num_points for _ in range(num_points)]\n",
        "\n",
        "    while True:\n",
        "      for i in range(num_points):\n",
        "        for j in range(i+1, num_points):\n",
        "          if random.random() < 0.2 and distance_matrix[i][j] != -1:\n",
        "            distance_matrix[i][j] = -1\n",
        "            distance_matrix[j][i] = -1\n",
        "\n",
        "      if all(any(val > 0 for val in row) for row in distance_matrix):\n",
        "        return distance_matrix\n",
        "\n",
        "      else:\n",
        "        distance_matrix = [[0] * num_points for _ in range(num_points)]\n",
        "        for i in range(num_points):\n",
        "          for j in range(num_points):\n",
        "            distance_matrix[i][j] = distances(points[i], points[j])"
      ],
      "metadata": {
        "id": "BxW1Br_4BXqM"
      },
      "execution_count": 3,
      "outputs": []
    },
    {
      "cell_type": "markdown",
      "source": [
        "The value of $-1$ in the distance matrix means that it is impossible to travel, it appears with a probability of $0.2$. The above code also implements a workaround for $-1$ appearing in the entire line (which creates a city without any roads). If $z_i > z_j$ then the route from city $j$ to city $i$ is considered an uphill route and the cost of such a route increases. At the same time, the cost of the route from city $i$ to city $j$ decreases."
      ],
      "metadata": {
        "id": "B6xFM_NLBY4p"
      }
    },
    {
      "cell_type": "code",
      "source": [
        "# Function to print the matrix\n",
        "def print_matrix(matrix):\n",
        "    for i in range(len(matrix)):\n",
        "        for j in range(len(matrix[i])):\n",
        "            print(f\"distance from {i} to {j}: {matrix[i][j]}\")\n",
        "        print()"
      ],
      "metadata": {
        "id": "j_RgFrVUBcT7"
      },
      "execution_count": null,
      "outputs": []
    },
    {
      "cell_type": "code",
      "source": [
        "def plot_graph(points, distance_matrix):\n",
        "    num_points = len(points)\n",
        "    x, y, z = np.array(points).T\n",
        "\n",
        "    fig = plt.figure()\n",
        "    ax = fig.add_subplot(111, projection='3d')\n",
        "\n",
        "    for i in range(num_points): # Cities\n",
        "        ax.scatter(x[i], y[i], z[i], color='b')\n",
        "        ax.text(x[i], y[i], z[i], str(i), color='black')\n",
        "\n",
        "    for i in range(num_points): # Roads\n",
        "        for j in range(num_points):\n",
        "            if distance_matrix[i][j] > 0:\n",
        "                ax.plot([x[i], x[j]], [y[i], y[j]], [z[i], z[j]], color='r')\n",
        "\n",
        "    ax.set_xlabel('X')\n",
        "    ax.set_ylabel('Y')\n",
        "    ax.set_zlabel('Z')\n",
        "\n",
        "    plt.show()"
      ],
      "metadata": {
        "id": "1YWmmrLNBcvh"
      },
      "execution_count": null,
      "outputs": []
    },
    {
      "cell_type": "markdown",
      "source": [
        "Graphical interpretation of the distance matrix taking into account all available connections (we exclude routes for which the value in the matrix is ​​$-1$)"
      ],
      "metadata": {
        "id": "lBtrBtSMBho1"
      }
    }
  ]
}