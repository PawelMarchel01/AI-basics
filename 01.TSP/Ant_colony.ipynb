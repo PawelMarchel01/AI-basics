{
  "nbformat": 4,
  "nbformat_minor": 0,
  "metadata": {
    "colab": {
      "provenance": []
    },
    "kernelspec": {
      "name": "python3",
      "display_name": "Python 3"
    },
    "language_info": {
      "name": "python"
    }
  },
  "cells": [
    {
      "cell_type": "code",
      "source": [
        "pip install import_ipynb"
      ],
      "metadata": {
        "id": "lYX6S6BiyYxZ"
      },
      "execution_count": null,
      "outputs": []
    },
    {
      "cell_type": "code",
      "source": [
        "import import_ipynb\n",
        "import Distance_Matrix"
      ],
      "metadata": {
        "id": "PvgsKB2jyYtk"
      },
      "execution_count": null,
      "outputs": []
    },
    {
      "cell_type": "code",
      "execution_count": 3,
      "metadata": {
        "id": "mAunA3IqBT55"
      },
      "outputs": [],
      "source": [
        "#Libraries\n",
        "import numpy as np\n",
        "import random\n",
        "import math\n",
        "import matplotlib.pyplot as plt\n",
        "from mpl_toolkits.mplot3d import Axes3D\n",
        "import time"
      ]
    },
    {
      "cell_type": "markdown",
      "source": [
        "#Ant Colony"
      ],
      "metadata": {
        "id": "ZXIWXiMXLMIu"
      }
    },
    {
      "cell_type": "markdown",
      "source": [
        "The **Ant Colony Algorithm** is a metaheuristic optimization technique inspired by the behavior of ants foraging for food. It involves simulating the behavior of ants in searching for the best routes in a graph or solution space. Ants leave pheromones on the routes they visit, which influences the preferences of other ants and leads to the discovery of better and better routes.\n"
      ],
      "metadata": {
        "id": "7JMWXKw-4mL-"
      }
    },
    {
      "cell_type": "markdown",
      "source": [
        "###Support functions:\n"
      ],
      "metadata": {
        "id": "yT2CdQukAos9"
      }
    },
    {
      "cell_type": "markdown",
      "source": [
        "**Distributor Function:**\n"
      ],
      "metadata": {
        "id": "yDBZ97nU4qkT"
      }
    },
    {
      "cell_type": "code",
      "source": [
        "def distributor(distance_matrix, visited, R, alpha, beta):\n",
        "  # Cumulative distribution function\n",
        "  n = len(distance_matrix)\n",
        "  current_city = visited[-1]\n",
        "  sum_path = 0\n",
        "  dist = []\n",
        "  tik = 0\n",
        "  dist_value = 0\n",
        "\n",
        "  for city in range(n):\n",
        "    if city not in visited and distance_matrix[current_city][city] != -1:\n",
        "      sum_path += ((distance_matrix[current_city][city])**alpha) * (R[current_city][city])**beta\n",
        "\n",
        "  for city in range(n):\n",
        "    if city not in visited and distance_matrix[current_city][city] != -1:\n",
        "      dist_value = (((distance_matrix[current_city][city])** alpha) * (R[current_city][city]**beta))/sum_path\n",
        "      dist.append([city, dist_value])\n",
        "    if city not in visited and distance_matrix[current_city][city] == -1:\n",
        "      dist.append([city, 0])\n",
        "\n",
        "  for j in range(len(dist)):\n",
        "    if dist[j][1] == 0:\n",
        "      tik +=1\n",
        "\n",
        "  if tik == len(dist):\n",
        "    return float('inf')\n",
        "\n",
        "  return dist"
      ],
      "metadata": {
        "id": "EwFmYTQfNRYW"
      },
      "execution_count": 4,
      "outputs": []
    },
    {
      "cell_type": "markdown",
      "source": [
        "**Random selection function taking into account probability:**\n"
      ],
      "metadata": {
        "id": "9z51KzxP4uKO"
      }
    },
    {
      "cell_type": "code",
      "source": [
        "def random_next_city(dist):\n",
        "  # Randomly selecting the next city based on the cumulative distribution\n",
        "  random_number = random.random()\n",
        "  next_city = None\n",
        "  min_difference = float('inf')\n",
        "\n",
        "  for i in range(len(dist)):\n",
        "    difference = abs(dist[i][1] - random_number)\n",
        "    if difference < min_difference:\n",
        "      min_difference = difference\n",
        "      next_city = dist[i][0]\n",
        "\n",
        "  return next_city"
      ],
      "metadata": {
        "id": "bitTFYjnUMmt"
      },
      "execution_count": 5,
      "outputs": []
    },
    {
      "cell_type": "markdown",
      "source": [
        "**Distance counting function:**\n"
      ],
      "metadata": {
        "id": "Lv4mNiPY42S3"
      }
    },
    {
      "cell_type": "code",
      "source": [
        "def calc_dist(distance_matrix, visited):\n",
        "  n = len(distance_matrix)\n",
        "  total_dist = 0\n",
        "  visited_prim = [visited[0]]\n",
        "  for i in range(n):\n",
        "    if distance_matrix[visited[i]][visited[i+1]] != -1:\n",
        "      total_dist += distance_matrix[visited[i]][visited[i+1]]\n",
        "      visited_prim.append(visited[i+1])\n",
        "    else:\n",
        "      visited_prim.append(visited[i+1])\n",
        "      return visited_prim, float(\"inf\")\n",
        "\n",
        "  return visited_prim, total_dist"
      ],
      "metadata": {
        "id": "LLC4wAlZeBc4"
      },
      "execution_count": 6,
      "outputs": []
    },
    {
      "cell_type": "markdown",
      "source": [
        "**Function that calculates the distance based on the pheromone trace:**\n"
      ],
      "metadata": {
        "id": "G9F73Uey45gF"
      }
    },
    {
      "cell_type": "code",
      "source": [
        "def R_path(R):\n",
        "    num_cities = len(R)\n",
        "    current_city = 0\n",
        "    visited_cities = set([current_city])\n",
        "    path = [current_city]\n",
        "\n",
        "    while len(visited_cities) < num_cities:\n",
        "        next_city = None\n",
        "        max_pheromone = 0\n",
        "\n",
        "        for city in range(num_cities):\n",
        "            if city not in visited_cities and city != current_city:  # Add condition to avoid selecting the same city\n",
        "                pheromone = R[current_city][city]\n",
        "                if pheromone > max_pheromone:\n",
        "                    max_pheromone = pheromone\n",
        "                    next_city = city\n",
        "\n",
        "        if next_city is not None:\n",
        "            path.append(next_city)\n",
        "            visited_cities.add(next_city)\n",
        "            current_city = next_city\n",
        "        else:\n",
        "            break  # Break the loop if no more cities are available\n",
        "\n",
        "    path.append(0)  # Return to the starting city to complete the path\n",
        "    return path"
      ],
      "metadata": {
        "id": "i5mbgUJBm1oj"
      },
      "execution_count": 7,
      "outputs": []
    },
    {
      "cell_type": "markdown",
      "source": [
        "###Ant algorithm (implementation)\n"
      ],
      "metadata": {
        "id": "suNigdIS4-ZG"
      }
    },
    {
      "cell_type": "code",
      "source": [
        "def ant_colony(distance_matrix, max_iter, stop, alpha, beta):\n",
        "    n = len(distance_matrix)\n",
        "    R = np.ones((n, n), dtype=float)\n",
        "    error = []\n",
        "\n",
        "    for j in range(max_iter):\n",
        "        visited = [0]\n",
        "\n",
        "        while len(visited) < n:\n",
        "            R = np.where(R < 0, 0.001, R)  # Preventing values other than those in the range [0,1] in the distribution\n",
        "            dist = distributor(distance_matrix, visited, R, alpha, beta)\n",
        "            if dist != float('inf'):  # Possible path thanks to the distribution\n",
        "                city = random_next_city(dist)\n",
        "                visited.append(city)\n",
        "\n",
        "                if len(visited) == n:  # Ant's cycle completion\n",
        "                    visited.append(0)\n",
        "                    visited, total_dist = calc_dist(distance_matrix, visited)\n",
        "\n",
        "                    # Choice and updating of rewards\n",
        "                    if total_dist == float(\"inf\"):\n",
        "                        reward = -1/100\n",
        "                        R[visited[-2]][visited[-1]] += reward\n",
        "                        R[visited[-1]][visited[-2]] += reward\n",
        "                        break\n",
        "                    else:\n",
        "                        reward = (total_dist)**(-1)\n",
        "                        for i in range(len(visited)-1):\n",
        "                            R[visited[i]][visited[i+1]] += reward\n",
        "                            R[visited[i+1]][visited[i]] += reward\n",
        "                        break\n",
        "            else:  # Impossible path thanks to the distribution\n",
        "                reward = -1/100\n",
        "                for i in range(len(visited)-1):\n",
        "                    R[visited[i]][visited[i+1]] += reward\n",
        "                    R[visited[i+1]][visited[i]] += reward\n",
        "                break\n",
        "\n",
        "        if j % stop == 0:\n",
        "            if calc_dist(distance_matrix, R_path(R))[1] != float(\"inf\"):\n",
        "                return calc_dist(distance_matrix, R_path(R))\n",
        "\n",
        "    return calc_dist(distance_matrix, R_path(R))"
      ],
      "metadata": {
        "id": "7KgRZzdKX7Ps"
      },
      "execution_count": 8,
      "outputs": []
    },
    {
      "cell_type": "markdown",
      "source": [
        "##Comparison with time\n"
      ],
      "metadata": {
        "id": "9avO3wmd4JfN"
      }
    },
    {
      "cell_type": "code",
      "source": [
        "random.seed(254468)\n",
        "\n",
        "times_ant_colony = []\n",
        "\n",
        "for i in range(3, 11):\n",
        "\n",
        "  print(f\"Results for {i} cities:\")\n",
        "  points = Distance_Matrix.coordinates(i)\n",
        "  distance_matrix = Distance_Matrix.generate_distance_matrix(points)\n",
        "\n",
        "  start = time.time()\n",
        "  print(\"Ant colony:\", ant_colony(distance_matrix,  1000*i, 200, 0.4, 0.9))\n",
        "  end = time.time()\n",
        "  times_ant_colony.append(end - start)\n",
        "\n",
        "  print(\"\")"
      ],
      "metadata": {
        "colab": {
          "base_uri": "https://localhost:8080/"
        },
        "id": "7vyN0fvioGqb",
        "outputId": "d4d5fc8a-d348-4c15-809d-0b46ded5d31f"
      },
      "execution_count": 10,
      "outputs": [
        {
          "output_type": "stream",
          "name": "stdout",
          "text": [
            "Results for 3 cities:\n",
            "Ant colony: ([0, 1, 2, 0], 266.971158015583)\n",
            "\n",
            "Results for 4 cities:\n",
            "Ant colony: ([0, 1, 3, 2, 0], 196.49195978072558)\n",
            "\n",
            "Results for 5 cities:\n",
            "Ant colony: ([0, 2, 4, 3, 1, 0], 358.328090825353)\n",
            "\n",
            "Results for 6 cities:\n",
            "Ant colony: ([0, 2, 1, 3, 4, 5, 0], 628.2282147346989)\n",
            "\n",
            "Results for 7 cities:\n",
            "Ant colony: ([0, 1, 2, 3, 4, 5, 6, 0], 653.2991813439492)\n",
            "\n",
            "Results for 8 cities:\n",
            "Ant colony: ([0, 4, 3, 6, 5, 2, 7, 1, 0], 737.1748222561948)\n",
            "\n",
            "Results for 9 cities:\n",
            "Ant colony: ([0, 6, 2, 3, 8, 4, 7, 1, 5, 0], 782.9270065101603)\n",
            "\n",
            "Results for 10 cities:\n",
            "Ant colony: ([0, 6, 9, 8, 2, 4, 1, 3, 5, 7, 0], 653.4757418942678)\n",
            "\n"
          ]
        }
      ]
    },
    {
      "cell_type": "code",
      "source": [
        "i_values = range(3, 11)\n",
        "\n",
        "plt.plot(i_values, times_ant_colony, marker='o', linestyle='-')\n",
        "\n",
        "plt.xlabel('Number of cities')\n",
        "plt.ylabel('Time')\n",
        "plt.title('Time vs. Number of cities (ant_colony)')\n",
        "\n",
        "plt.grid(True)\n",
        "\n",
        "plt.show()"
      ],
      "metadata": {
        "colab": {
          "base_uri": "https://localhost:8080/",
          "height": 472
        },
        "id": "2W9LpFZ_4L2f",
        "outputId": "ec8a95a3-2330-4b1e-fac2-5b72d968feb0"
      },
      "execution_count": 11,
      "outputs": [
        {
          "output_type": "display_data",
          "data": {
            "text/plain": [
              "<Figure size 640x480 with 1 Axes>"
            ],
            "image/png": "[encoded data removed]"
          },
          "metadata": {}
        }
      ]
    }
  ]
}